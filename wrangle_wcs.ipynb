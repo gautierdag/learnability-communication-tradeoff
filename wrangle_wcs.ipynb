{
 "cells": [
  {
   "cell_type": "markdown",
   "metadata": {},
   "source": [
    "# Measuring Communication Efficiency and Learnability of Colors using an Information Bottleneck Framework"
   ]
  },
  {
   "cell_type": "code",
   "execution_count": 59,
   "metadata": {},
   "outputs": [],
   "source": [
    "import pandas as pd\n",
    "import numpy as np\n",
    "from ibhelpers import *\n",
    "from scipy.spatial import distance"
   ]
  },
  {
   "cell_type": "code",
   "execution_count": 6,
   "metadata": {},
   "outputs": [],
   "source": [
    "# load the data from the World Color Survey\n",
    "df = pd.read_csv(\"wcs/term.txt\", delimiter=\"\\t\", header=None)\n",
    "df.columns = [\"language\", \"speaker\", \"chip\", \"word\"]"
   ]
  },
  {
   "cell_type": "markdown",
   "metadata": {},
   "source": [
    "## Calculate prior probabilities\n",
    "\n",
    "For each language, $l$, we can use a frequentist approach (counts) to calculate the observed quantities of $p(w|c,l)$ and $p(c|w,l)$"
   ]
  },
  {
   "cell_type": "code",
   "execution_count": 7,
   "metadata": {},
   "outputs": [
    {
     "data": {
      "text/plain": [
       "language  chip  word\n",
       "1         1     F       0.08\n",
       "                G       0.52\n",
       "                LB      0.36\n",
       "                LF      0.04\n",
       "          2     F       0.60\n",
       "dtype: float64"
      ]
     },
     "execution_count": 7,
     "metadata": {},
     "output_type": "execute_result"
    }
   ],
   "source": [
    "per_chip_count_df = df.groupby([\"language\", \"chip\", \"word\"]).speaker.agg(individual_count_per_word_per_chip=\"count\")\n",
    "total_word_count_df = df.groupby([\"language\", \"chip\"]).word.agg(total_words_per_chip=\"count\")\n",
    "\n",
    "# frequentist probability of a word given chip and language\n",
    "p_word_chip_language = per_chip_count_df[\"individual_count_per_word_per_chip\"] / total_word_count_df[\"total_words_per_chip\"]\n",
    "p_word_chip_language.head(5)"
   ]
  },
  {
   "cell_type": "code",
   "execution_count": 8,
   "metadata": {},
   "outputs": [
    {
     "data": {
      "text/plain": [
       "language  word  chip\n",
       "1         F     1       0.001366\n",
       "                2       0.010246\n",
       "                4       0.001366\n",
       "                5       0.011612\n",
       "                6       0.003415\n",
       "dtype: float64"
      ]
     },
     "execution_count": 8,
     "metadata": {},
     "output_type": "execute_result"
    }
   ],
   "source": [
    "per_word_count_df = df.groupby([\"language\", \"word\", \"chip\"]).speaker.agg(individual_count_per_chip_per_word=\"count\")\n",
    "total_chip_count_df = df.groupby([\"language\", \"word\"]).chip.agg(total_chips_per_word=\"count\")\n",
    "\n",
    "# frequentist probability of a chip given word and language\n",
    "p_chip_word_language = per_word_count_df[\"individual_count_per_chip_per_word\"] / total_chip_count_df[\"total_chips_per_word\"]\n",
    "p_chip_word_language.head(5)"
   ]
  },
  {
   "cell_type": "markdown",
   "metadata": {},
   "source": [
    "## Information Bottleneck\n",
    "\n",
    "Code taken from Frank (osfstorage)"
   ]
  },
  {
   "cell_type": "markdown",
   "metadata": {},
   "source": [
    "### Initialise components for optimising IB objective\n",
    "\n",
    "We need to initialise a joint prior distribution of words and meanings, i.e. `p_wm`, and a corresponding variational joint distribution, i.e. `q0` (q_wm_0)."
   ]
  },
  {
   "cell_type": "code",
   "execution_count": 9,
   "metadata": {},
   "outputs": [],
   "source": [
    "# number of possible meanings\n",
    "n_meanings = 330 #TODO: change this with the correct number from WCS\n",
    "n_words = n_meanings\n",
    "# to avoid underflow problem\n",
    "eps = 0.01\n",
    "\n",
    "q0 = (1 - eps) * np.eye(n_meanings) + eps * np.ones((n_meanings, n_meanings))"
   ]
  },
  {
   "cell_type": "markdown",
   "metadata": {},
   "source": [
    "the following block is TEMPORARY, should be updated"
   ]
  },
  {
   "cell_type": "code",
   "execution_count": 47,
   "metadata": {},
   "outputs": [],
   "source": [
    "def softmax(x, axis=None):\n",
    "    x = x - x.max(axis=axis, keepdims=True)\n",
    "    y = np.exp(x)\n",
    "    return y / y.sum(axis=axis, keepdims=True)\n",
    "p_xy = np.random.rand(n_meanings, n_meanings)\n",
    "p_xy = softmax(p_xy, 0)"
   ]
  },
  {
   "cell_type": "code",
   "execution_count": 51,
   "metadata": {},
   "outputs": [],
   "source": [
    "q0 = q0 / q0.sum(axis=1, keepdims=True) # q0 initial encoder - can set it to identity\n",
    "betas = np.array([2.0 ** x for x in np.arange(5, 0, -1)])\n",
    "focalbeta = 5.3"
   ]
  },
  {
   "cell_type": "code",
   "execution_count": 52,
   "metadata": {},
   "outputs": [
    {
     "name": "stdout",
     "output_type": "stream",
     "text": [
      "32.0:1\n",
      "16.0:1\n",
      "8.0:1\n",
      "4.0:1\n",
      "2.0:1\n"
     ]
    }
   ],
   "source": [
    "q, beta, ibscores, qresult, qseq, qseqresults, allqs = fit_ib(p_xy, q0, focalbeta, betas, verbose=1)"
   ]
  },
  {
   "cell_type": "code",
   "execution_count": 54,
   "metadata": {},
   "outputs": [
    {
     "data": {
      "text/plain": [
       "[array([[0.00307904, 0.00304061, 0.00304727, ..., 0.00303542, 0.00302544,\n",
       "         0.00303891],\n",
       "        [0.00304315, 0.00307562, 0.00304773, ..., 0.00303163, 0.00302373,\n",
       "         0.003046  ],\n",
       "        [0.00304742, 0.00304525, 0.00308016, ..., 0.00303478, 0.00302803,\n",
       "         0.00304531],\n",
       "        ...,\n",
       "        [0.00304801, 0.00304189, 0.00304737, ..., 0.0030681 , 0.00302354,\n",
       "         0.00304085],\n",
       "        [0.00304636, 0.00304208, 0.00304902, ..., 0.00303193, 0.00305799,\n",
       "         0.00304633],\n",
       "        [0.00303916, 0.00304365, 0.00304554, ..., 0.00302853, 0.00302571,\n",
       "         0.00307996]]),\n",
       " array([[0.00304492, 0.00304208, 0.00304455, ..., 0.00303202, 0.00302371,\n",
       "         0.00304429],\n",
       "        [0.00304456, 0.00304242, 0.00304456, ..., 0.00303199, 0.00302368,\n",
       "         0.00304438],\n",
       "        [0.00304462, 0.00304214, 0.00304485, ..., 0.00303201, 0.00302373,\n",
       "         0.00304436],\n",
       "        ...,\n",
       "        [0.00304461, 0.0030421 , 0.00304454, ..., 0.00303234, 0.00302367,\n",
       "         0.00304431],\n",
       "        [0.0030446 , 0.00304208, 0.00304455, ..., 0.00303197, 0.003024  ,\n",
       "         0.00304439],\n",
       "        [0.0030445 , 0.00304211, 0.0030445 , ..., 0.00303194, 0.00302372,\n",
       "         0.00304469]]),\n",
       " array([[0.00304457, 0.00304209, 0.00304451, ..., 0.00303198, 0.00302368,\n",
       "         0.00304436],\n",
       "        [0.00304457, 0.00304209, 0.00304451, ..., 0.00303198, 0.00302368,\n",
       "         0.00304436],\n",
       "        [0.00304457, 0.00304209, 0.00304451, ..., 0.00303198, 0.00302368,\n",
       "         0.00304436],\n",
       "        ...,\n",
       "        [0.00304457, 0.00304209, 0.00304451, ..., 0.00303199, 0.00302368,\n",
       "         0.00304436],\n",
       "        [0.00304457, 0.00304209, 0.00304451, ..., 0.00303198, 0.00302369,\n",
       "         0.00304436],\n",
       "        [0.00304457, 0.00304209, 0.00304451, ..., 0.00303198, 0.00302368,\n",
       "         0.00304436]]),\n",
       " array([[0.00304457, 0.00304209, 0.00304451, ..., 0.00303198, 0.00302368,\n",
       "         0.00304436],\n",
       "        [0.00304457, 0.00304209, 0.00304451, ..., 0.00303198, 0.00302368,\n",
       "         0.00304436],\n",
       "        [0.00304457, 0.00304209, 0.00304451, ..., 0.00303198, 0.00302368,\n",
       "         0.00304436],\n",
       "        ...,\n",
       "        [0.00304457, 0.00304209, 0.00304451, ..., 0.00303198, 0.00302368,\n",
       "         0.00304436],\n",
       "        [0.00304457, 0.00304209, 0.00304451, ..., 0.00303198, 0.00302368,\n",
       "         0.00304436],\n",
       "        [0.00304457, 0.00304209, 0.00304451, ..., 0.00303198, 0.00302368,\n",
       "         0.00304436]]),\n",
       " array([[0.00304457, 0.00304209, 0.00304451, ..., 0.00303198, 0.00302368,\n",
       "         0.00304436],\n",
       "        [0.00304457, 0.00304209, 0.00304451, ..., 0.00303198, 0.00302368,\n",
       "         0.00304436],\n",
       "        [0.00304457, 0.00304209, 0.00304451, ..., 0.00303198, 0.00302368,\n",
       "         0.00304436],\n",
       "        ...,\n",
       "        [0.00304457, 0.00304209, 0.00304451, ..., 0.00303198, 0.00302368,\n",
       "         0.00304436],\n",
       "        [0.00304457, 0.00304209, 0.00304451, ..., 0.00303198, 0.00302368,\n",
       "         0.00304436],\n",
       "        [0.00304457, 0.00304209, 0.00304451, ..., 0.00303198, 0.00302368,\n",
       "         0.00304436]])]"
      ]
     },
     "execution_count": 54,
     "metadata": {},
     "output_type": "execute_result"
    }
   ],
   "source": [
    "allqs"
   ]
  },
  {
   "cell_type": "code",
   "execution_count": 55,
   "metadata": {},
   "outputs": [
    {
     "data": {
      "text/plain": [
       "4.0"
      ]
     },
     "execution_count": 55,
     "metadata": {},
     "output_type": "execute_result"
    }
   ],
   "source": [
    "beta"
   ]
  },
  {
   "cell_type": "code",
   "execution_count": 56,
   "metadata": {},
   "outputs": [
    {
     "data": {
      "text/plain": [
       "[(-2760.8860350388386, 19.281396292996824, 0.0),\n",
       " (-2760.886330658383, 19.281396509649873, 0.0),\n",
       " (-2760.886330701117, 19.281396509683972, 0.0),\n",
       " (-2760.886330701119, 19.28139650968398, 0.0),\n",
       " (-2760.886330701119, 19.281396509683997, 0.0)]"
      ]
     },
     "execution_count": 56,
     "metadata": {},
     "output_type": "execute_result"
    }
   ],
   "source": [
    "ibscores"
   ]
  },
  {
   "cell_type": "code",
   "execution_count": 68,
   "metadata": {},
   "outputs": [],
   "source": [
    "items = [str(x+1) for x in range(n_meanings)]\n",
    "columns = ['M'+str(i) for i in items]\n",
    "\n",
    "# create data frames for plotting and analysis\n",
    "ib_scores_df = pd.DataFrame(np.array(ibscores), columns = ['rate', 'distortion', 'elen'])\n",
    "ib_scores_df['beta'] = betas\n",
    "ib_scores_df['q'] = allqs\n",
    "ib_scores_df['Wn'] = [mergecols(q).shape[1] for q in ib_scores_df['q']]\n",
    "\n",
    "# The structural phase transitions along the pareto frontier\n",
    "stochSys = []\n",
    "for i, q in enumerate(zip(qseq, qseqresults)):\n",
    "    for w in mergecols(q[0]).transpose():\n",
    "        stochSys.append([len(qseq)-i, q[1][0], q[1][1]] + list(w))\n",
    "\n",
    "stochSys = pd.DataFrame(data=np.array(stochSys), columns = ['n', 'rate', 'distortion'] + columns)"
   ]
  },
  {
   "cell_type": "code",
   "execution_count": 69,
   "metadata": {},
   "outputs": [
    {
     "data": {
      "text/html": [
       "<div>\n",
       "<style scoped>\n",
       "    .dataframe tbody tr th:only-of-type {\n",
       "        vertical-align: middle;\n",
       "    }\n",
       "\n",
       "    .dataframe tbody tr th {\n",
       "        vertical-align: top;\n",
       "    }\n",
       "\n",
       "    .dataframe thead th {\n",
       "        text-align: right;\n",
       "    }\n",
       "</style>\n",
       "<table border=\"1\" class=\"dataframe\">\n",
       "  <thead>\n",
       "    <tr style=\"text-align: right;\">\n",
       "      <th></th>\n",
       "      <th>n</th>\n",
       "      <th>rate</th>\n",
       "      <th>distortion</th>\n",
       "      <th>M1</th>\n",
       "      <th>M2</th>\n",
       "      <th>M3</th>\n",
       "      <th>M4</th>\n",
       "      <th>M5</th>\n",
       "      <th>M6</th>\n",
       "      <th>M7</th>\n",
       "      <th>...</th>\n",
       "      <th>M321</th>\n",
       "      <th>M322</th>\n",
       "      <th>M323</th>\n",
       "      <th>M324</th>\n",
       "      <th>M325</th>\n",
       "      <th>M326</th>\n",
       "      <th>M327</th>\n",
       "      <th>M328</th>\n",
       "      <th>M329</th>\n",
       "      <th>M330</th>\n",
       "    </tr>\n",
       "  </thead>\n",
       "  <tbody>\n",
       "    <tr>\n",
       "      <th>0</th>\n",
       "      <td>1.0</td>\n",
       "      <td>-2760.886035</td>\n",
       "      <td>19.281396</td>\n",
       "      <td>0.00303</td>\n",
       "      <td>0.00303</td>\n",
       "      <td>0.00303</td>\n",
       "      <td>0.00303</td>\n",
       "      <td>0.00303</td>\n",
       "      <td>0.00303</td>\n",
       "      <td>0.00303</td>\n",
       "      <td>...</td>\n",
       "      <td>0.00303</td>\n",
       "      <td>0.00303</td>\n",
       "      <td>0.00303</td>\n",
       "      <td>0.00303</td>\n",
       "      <td>0.00303</td>\n",
       "      <td>0.00303</td>\n",
       "      <td>0.00303</td>\n",
       "      <td>0.00303</td>\n",
       "      <td>0.00303</td>\n",
       "      <td>0.00303</td>\n",
       "    </tr>\n",
       "  </tbody>\n",
       "</table>\n",
       "<p>1 rows × 333 columns</p>\n",
       "</div>"
      ],
      "text/plain": [
       "     n         rate  distortion       M1       M2       M3       M4       M5  \\\n",
       "0  1.0 -2760.886035   19.281396  0.00303  0.00303  0.00303  0.00303  0.00303   \n",
       "\n",
       "        M6       M7  ...     M321     M322     M323     M324     M325  \\\n",
       "0  0.00303  0.00303  ...  0.00303  0.00303  0.00303  0.00303  0.00303   \n",
       "\n",
       "      M326     M327     M328     M329     M330  \n",
       "0  0.00303  0.00303  0.00303  0.00303  0.00303  \n",
       "\n",
       "[1 rows x 333 columns]"
      ]
     },
     "execution_count": 69,
     "metadata": {},
     "output_type": "execute_result"
    }
   ],
   "source": [
    "stochSys"
   ]
  },
  {
   "cell_type": "code",
   "execution_count": 66,
   "metadata": {},
   "outputs": [
    {
     "data": {
      "text/plain": [
       "<AxesSubplot:xlabel='rate'>"
      ]
     },
     "execution_count": 66,
     "metadata": {},
     "output_type": "execute_result"
    },
    {
     "data": {
      "image/png": "[encoded data removed]",
      "text/plain": [
       "<Figure size 432x288 with 1 Axes>"
      ]
     },
     "metadata": {
      "needs_background": "light"
     },
     "output_type": "display_data"
    }
   ],
   "source": [
    "stochSys.cumsum()\n",
    "stochSys.plot(x=\"rate\", y='distortion')"
   ]
  },
  {
   "cell_type": "code",
   "execution_count": null,
   "metadata": {},
   "outputs": [],
   "source": [
    "items = ['a', 'b', 'c', 'r', 'x', 'y', 'z']\n",
    "\n",
    "# probabilities from Geoff's dissertation from Google N-grams (1985)\n",
    "allp =  np.array([0.1034, 0.0795, 0.1839, 0.6183, 0.0074, 0.0048, 0.0028])\n",
    "pastprops = allp[0:3]/np.sum(allp[0:3])\n",
    "futprops = allp[4:7]/np.sum(allp[4:7])\n",
    "duboisprobs = np.array([27.4, 47.5, 25.1]) # From Twitter Corpus\n",
    "duboisprobs = duboisprobs / np.sum(duboisprobs)\n",
    "p_x = np.concatenate( [duboisprobs[0] * pastprops, duboisprobs[[1]], duboisprobs[2]*futprops ] )\n",
    "p_x = p_x / np.sum(p_x)\n",
    "\n",
    "eps = 0.01\n",
    "q0 = (1 - eps) * np.eye(7) + eps * np.ones((7, 7))\n",
    "\n",
    "kap = 0.5\n",
    "lam = 0.1\n",
    "\n",
    "p_xGy = np.array(\n",
    "    [[1, kap, kap ** 2, lam * kap ** 2, lam ** 2 * kap ** 2, lam ** 2 * kap ** 3, lam ** 2 * kap ** 4],\n",
    "     [kap, 1, kap, lam * kap, lam ** 2 * kap, lam ** 2 * kap ** 2, lam ** 2 * kap ** 3],\n",
    "     [kap ** 2, kap, 1, lam, lam ** 2, lam ** 2 * kap, lam ** 2 * kap ** 2],\n",
    "     [lam * kap ** 2, lam * kap, lam, 1, lam, lam * kap, lam * kap ** 2],\n",
    "     [lam ** 2 * kap ** 2, lam ** 2 * kap, lam ** 2, lam, 1, kap, kap ** 2],\n",
    "     [lam ** 2 * kap ** 3, lam ** 2 * kap ** 2, lam ** 2 * kap, lam * kap, kap, 1, kap],\n",
    "     [lam ** 2 * kap ** 4, lam ** 2 * kap ** 3, lam ** 2 * kap ** 2, lam * kap ** 2, kap ** 2, kap, 1]])\n",
    "\n",
    "p_mGs = p_xGy / np.sum(p_xGy, axis=0)\n",
    "p_xGy = p_xGy / p_xGy.sum(axis=1, keepdims=True)\n",
    "p_xy = p_xGy * p_x[:, np.newaxis]\n",
    "p_xy = p_xy / np.sum(p_xy) "
   ]
  },
  {
   "cell_type": "markdown",
   "metadata": {},
   "source": [
    "### The Pareto Frontier\n",
    "Now let's run the Information Bottleneck Method"
   ]
  },
  {
   "cell_type": "code",
   "execution_count": null,
   "metadata": {},
   "outputs": [],
   "source": [
    "# trace out optimal frontier\n",
    "q0 = q0 / q0.sum(axis=1, keepdims=True) # q0 initial encoder - can set it to identity\n",
    "betas = np.array([2.0 ** x for x in np.arange(5, 0, -0.001)])\n",
    "focalbeta = 5.3\n",
    "\n",
    "q, beta, ibscores, qresult, qseq, qseqresults, allqs = fit_ib(p_xy, q0, focalbeta, betas, verbose=1)\n",
    "\n",
    "# create data frames for plotting and analysis\n",
    "ib_scores_df = pandas.DataFrame(np.array(ibscores), columns = ['rate', 'distortion', 'elen'])\n",
    "ib_scores_df['beta'] = betas\n",
    "ib_scores_df['q'] = allqs\n",
    "ib_scores_df['Wn'] = [mergecols(q).shape[1] for q in ib_scores_df['q']]\n",
    "\n",
    "# The structural phase transitions along the pareto frontier\n",
    "stochSys = []\n",
    "for i, q in enumerate(zip(qseq, qseqresults)):\n",
    "    for w in mergecols(q[0]).transpose():\n",
    "        stochSys.append([len(qseq)-i, q[1][0], q[1][1]] + list(w))\n",
    "\n",
    "stochSys = pandas.DataFrame(data=np.array(stochSys), columns = ['n', 'rate', 'distortion'] + items)\n"
   ]
  },
  {
   "cell_type": "code",
   "execution_count": null,
   "metadata": {},
   "outputs": [],
   "source": [
    "# compute distance from optimal frontier\n",
    "def fd(asys, ibscores):\n",
    "    mind = distance.cdist([[asys['rate'], asys['distortion']]], ibscores[['rate', 'distortion']]).min()\n",
    "    return mind\n",
    "\n",
    "\n",
    "def gNID_d(asys, paretoQs, betas, pX):\n",
    "    mind = np.zeros((len(asys), len(paretoQs)))\n",
    "    for li in range(len(asys)):\n",
    "        for qi, q in enumerate(paretoQs):\n",
    "            mind[li, qi] = gNID(asys.iloc[li]['q'], q, pX)\n",
    "    return np.argmin(mind, axis=1), np.min(mind, axis=1), betas[np.argmin(mind, axis=1)]\n",
    "\n"
   ]
  }
 ],
 "metadata": {
  "interpreter": {
   "hash": "dbda1052f39ca0b0a0cd74911b0c91c0e224307f85d570c8823d0661ac0877c0"
  },
  "kernelspec": {
   "display_name": "Python 3.8.12 64-bit ('lc': conda)",
   "name": "python3"
  },
  "language_info": {
   "codemirror_mode": {
    "name": "ipython",
    "version": 3
   },
   "file_extension": ".py",
   "mimetype": "text/x-python",
   "name": "python",
   "nbconvert_exporter": "python",
   "pygments_lexer": "ipython3",
   "version": "3.6.13"
  },
  "orig_nbformat": 4
 },
 "nbformat": 4,
 "nbformat_minor": 2
}
