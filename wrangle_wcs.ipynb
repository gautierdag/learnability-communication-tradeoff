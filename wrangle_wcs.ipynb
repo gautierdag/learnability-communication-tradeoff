{
 "cells": [
  {
   "cell_type": "markdown",
   "metadata": {},
   "source": [
    "# Measuring Communication Efficiency and Learnability of Colors using an Information Bottleneck Framework"
   ]
  },
  {
   "cell_type": "code",
   "execution_count": 1,
   "metadata": {},
   "outputs": [],
   "source": [
    "import pandas as pd\n",
    "import numpy as np\n",
    "from ibhelpers import *"
   ]
  },
  {
   "cell_type": "code",
   "execution_count": 2,
   "metadata": {},
   "outputs": [],
   "source": [
    "# load the data from the World Color Survey\n",
    "term_df = pd.read_csv(\"wcs/term.txt\", delimiter=\"\\t\", header=None)\n",
    "term_df.columns = [\"language\", \"speaker\", \"chip\", \"word\"]"
   ]
  },
  {
   "cell_type": "markdown",
   "metadata": {},
   "source": [
    "## Calculate prior probabilities\n",
    "\n",
    "For each language, $l$, we can use a frequentist approach (counts) to calculate the observed quantities of $p(w|c,l)$ and $p(c|w,l)$"
   ]
  },
  {
   "cell_type": "code",
   "execution_count": 28,
   "metadata": {},
   "outputs": [],
   "source": [
    "# per_chip_count_df = df.groupby([\"language\", \"chip\", \"word\"]).speaker.agg(individual_count_per_word_per_chip=\"count\")\n",
    "# total_word_count_df = df.groupby([\"language\", \"chip\"]).word.agg(total_words_per_chip=\"count\")\n",
    "\n",
    "# # frequentist probability of a word given chip and language\n",
    "# p_word_chip_language = per_chip_count_df[\"individual_count_per_word_per_chip\"] / total_word_count_df[\"total_words_per_chip\"]\n",
    "# p_word_chip_language.head(5)"
   ]
  },
  {
   "cell_type": "code",
   "execution_count": 29,
   "metadata": {},
   "outputs": [],
   "source": [
    "# per_word_count_df = df.groupby([\"language\", \"word\", \"chip\"]).speaker.agg(individual_count_per_chip_per_word=\"count\")\n",
    "# total_chip_count_df = df.groupby([\"language\", \"word\"]).chip.agg(total_chips_per_word=\"count\")\n",
    "\n",
    "# # frequentist probability of a chip given word and language\n",
    "# p_chip_word_language = per_word_count_df[\"individual_count_per_chip_per_word\"] / total_chip_count_df[\"total_chips_per_word\"]\n",
    "# p_chip_word_language.head(5)"
   ]
  },
  {
   "cell_type": "code",
   "execution_count": null,
   "metadata": {},
   "outputs": [],
   "source": [
    "\n",
    "def unmerge_cols(q):\n",
    "    num_cols = q.shape[1]\n",
    "    if num_cols < 330:\n",
    "        duplicate_vector = np.ones(num_cols, dtype=int)\n",
    "        duplicate_vector[-1] = 331 - num_cols\n",
    "        q = np.repeat(q, duplicate_vector, axis=1)\n",
    "    q[:,330-duplicate_vector[-1]:] /= duplicate_vector[-1]\n",
    "    q[np.isnan(q)] = 0\n",
    "    # uniform dist for q va\n",
    "    q[q.sum(1) == 0] = 1 / q.shape[0]\n",
    "    \n",
    "    assert 330 - q.sum() < 0.01\n",
    "    return q\n",
    "    \n",
    "# Get a q given a language id and term.txt / sample.csv file \n",
    "# q is a matrix that is (330 x W) that describes the probability of a word given color chip\n",
    "def get_q_for_language(language_id: int, term_file=None, mergecols=False):\n",
    "    if term_file is None:\n",
    "        df = pd.read_csv(\"wcs/term.txt\", delimiter=\"\\t\", header=None)\n",
    "        df.columns = [\"language\", \"speaker\", \"chip\", \"word\"]\n",
    "    else:\n",
    "        df = pd.read_csv(term_file)\n",
    "\n",
    "    per_chip_count_df = df.groupby([\"language\", \"chip\", \"word\"]).speaker.agg(individual_count_per_word_per_chip=\"count\")\n",
    "    total_word_count_df = df.groupby([\"language\", \"chip\"]).word.agg(total_words_per_chip=\"count\")\n",
    "    p_word_chip_language = per_chip_count_df[\"individual_count_per_word_per_chip\"] / total_word_count_df[\"total_words_per_chip\"]\n",
    "    tmp_df = p_word_chip_language.reset_index()\n",
    "    \n",
    "    language_df = tmp_df[tmp_df.language == language_id].copy()\n",
    "    language_df.word = language_df.word.astype('category').cat.codes\n",
    "    \n",
    "    q = np.zeros((330, language_df.word.nunique()))\n",
    "    for i, row in language_df.iterrows():\n",
    "        q[int(row[\"chip\"])-1][int(row[\"word\"])] = row[0]\n",
    "    \n",
    "    if mergecols:\n",
    "        return q\n",
    "    q = unmerge_cols(q)\n",
    "    return q\n",
    "\n",
    "# Get a q given a language id and term.txt / sample.csv file \n",
    "# q is a matrix that is (330 x W) that describes the probability of a word given color chip\n",
    "def get_q_for_som_language(language_id: int, sample_size: int, term_file=None):\n",
    "    if term_file is None:\n",
    "        df = pd.read_csv(\"wcs/term.txt\", delimiter=\"\\t\", header=None)\n",
    "        df.columns = [\"language\", \"speaker\", \"chip\", \"word\"]\n",
    "    else:\n",
    "        df = pd.read_csv(term_file, delimiter=\"\\t\", header=None)\n",
    "        df.columns = [\"language\", \"speaker\", \"chip\", \"word\"]\n",
    "        \n",
    "    \n",
    "    df = df[:sample_size].copy()\n",
    "\n",
    "    per_chip_count_df = df.groupby([\"language\", \"chip\", \"word\"]).speaker.agg(individual_count_per_word_per_chip=\"count\")\n",
    "    total_word_count_df = df.groupby([\"language\", \"chip\"]).word.agg(total_words_per_chip=\"count\")\n",
    "    p_word_chip_language = per_chip_count_df[\"individual_count_per_word_per_chip\"] / total_word_count_df[\"total_words_per_chip\"]\n",
    "    tmp_df = p_word_chip_language.reset_index()\n",
    "    \n",
    "    language_df = tmp_df[tmp_df.language == language_id].copy()\n",
    "    language_df.word = language_df.word.astype('category').cat.codes\n",
    "    \n",
    "    q = np.zeros((330, language_df.word.nunique()))\n",
    "    \n",
    "    for i, row in language_df.iterrows():\n",
    "        q[int(row[\"chip\"])-1][int(row[\"word\"])] = row[0]\n",
    "    \n",
    "    q = unmerge_cols(q)\n",
    "    return q"
   ]
  },
  {
   "cell_type": "code",
   "execution_count": 5,
   "metadata": {},
   "outputs": [],
   "source": [
    "# from tqdm import tqdm\n",
    "# import glob\n",
    "# seed = 42\n",
    "\n",
    "# # go over all sample files and calculate q directly from sample instead of from learnability encoder\n",
    "# sample_files = glob.glob(f\"output/learnability/42/*_samples.csv\")\n",
    "# with tqdm(total=(len(sample_files)*110)) as pbar:\n",
    "#     for sample_file in sample_files:\n",
    "#         i = int(sample_file.split(\"_\")[0].split(\"/\")[-1])\n",
    "#         for l in range(1, 111):\n",
    "#             q = get_q_for_language(l, term_file=sample_file)\n",
    "#             np.save(f\"output/learnability/42/{l}/sample_{i}.npy\", q)\n",
    "#             pbar.update(1)\n",
    "#             break\n",
    "#         break\n"
   ]
  },
  {
   "cell_type": "code",
   "execution_count": 6,
   "metadata": {},
   "outputs": [],
   "source": [
    "# from tqdm import tqdm\n",
    "# import glob\n",
    "# seed = 42\n",
    "\n",
    "# sample_range = (\n",
    "#     list(range(1, 25, 1))\n",
    "#     + list(range(25, 50, 5))\n",
    "#     + list(range(50, 100, 10))\n",
    "#     + list(range(100, 220, 20))\n",
    "#     + list(range(250, 1000, 50))\n",
    "#     + list(range(1000, 2100, 100))\n",
    "# )\n",
    "\n",
    "# sample_files = glob.glob(f\"output/som/{seed}/*/*_samples.csv\")\n",
    "# with tqdm(total=(len(sample_files)*len(sample_range))) as pbar:\n",
    "#     for sample_file in sample_files:\n",
    "#         l = int(sample_file.split(\"_\")[0].split(\"/\")[-2])\n",
    "#         for s in sample_range:\n",
    "#             q = get_q_for_som_language(l, s, term_file=sample_file)\n",
    "#             np.save(f\"output/som/{seed}/{l}/sample_{s}.npy\", q)\n",
    "#             pbar.update(1)\n",
    "#             break\n",
    "#         break"
   ]
  },
  {
   "cell_type": "markdown",
   "metadata": {},
   "source": [
    "## Information Bottleneck\n",
    "\n",
    "Code taken from Frank (osfstorage)"
   ]
  },
  {
   "cell_type": "markdown",
   "metadata": {},
   "source": [
    "### Initialise components for optimising IB objective\n",
    "\n",
    "We need to initialise a joint prior distribution of words and meanings, i.e. `p_wm`, and a corresponding variational joint distribution, i.e. `q0` (q_wm_0)."
   ]
  },
  {
   "cell_type": "code",
   "execution_count": 7,
   "metadata": {},
   "outputs": [],
   "source": [
    "# number of possible meanings\n",
    "n_meanings = 330\n",
    "\n",
    "# to avoid underflow problem\n",
    "eps = 0.00001\n",
    "q0 = (1 - eps) * np.eye(n_meanings) + eps * np.ones((n_meanings, n_meanings))"
   ]
  },
  {
   "cell_type": "markdown",
   "metadata": {},
   "source": [
    "Calculate $p(x|y)$ (p_xGy) using a PDF over chips in lab space"
   ]
  },
  {
   "cell_type": "code",
   "execution_count": 8,
   "metadata": {},
   "outputs": [],
   "source": [
    "from scipy.stats import norm, multivariate_normal\n",
    "from scipy.special import softmax\n",
    "\n",
    "p_xGy = np.zeros((n_meanings, n_meanings))\n",
    "\n",
    "chip2lab = pd.read_csv(\"wcs/cnum-vhcm-lab-new.txt\", sep=\"\\t\", header=0, index_col=\"#cnum\")\n",
    "chip2lab = chip2lab.sort_values(by=\"#cnum\")[[\"L*\", \"a*\", \"b*\"]].copy().reset_index()"
   ]
  },
  {
   "cell_type": "code",
   "execution_count": 14,
   "metadata": {},
   "outputs": [
    {
     "data": {
      "image/png": "[encoded data removed]",
      "text/plain": [
       "<Figure size 432x432 with 1 Axes>"
      ]
     },
     "metadata": {
      "needs_background": "light"
     },
     "output_type": "display_data"
    }
   ],
   "source": [
    "import seaborn as sns\n",
    "import numpy as np\n",
    "\n",
    "from matplotlib import pyplot as plt\n",
    "from mpl_toolkits.mplot3d import Axes3D\n",
    "from matplotlib.colors import ListedColormap\n",
    "\n",
    "labspace = chip2lab[[\"L*\", \"a*\", \"b*\"]].values\n",
    "COVARIANCE = 64 # @TODO: This is a hyperparameter than needs to be justified\n",
    "\n",
    "for i in range(n_meanings):\n",
    "    # the multivariate pdf over the lab space dimension to go back into chip/meaning space \n",
    "    p_xGy[i] = multivariate_normal.pdf(labspace, mean=labspace[i], cov=COVARIANCE)\n",
    "\n",
    "# generate data\n",
    "n = 200\n",
    "x = labspace[:,0]\n",
    "y = labspace[:,1]\n",
    "z = labspace[:,2]\n",
    "\n",
    "# We will plot the pdf for the first chip in Lab space\n",
    "# to check that some probability is being assigned to each surrounding chip\n",
    "c = p_xGy[0]\n",
    "\n",
    "# axes instance\n",
    "fig = plt.figure(figsize=(6,6))\n",
    "ax = Axes3D(fig, auto_add_to_figure=False)\n",
    "fig.add_axes(ax)\n",
    "\n",
    "# get colormap from seaborn\n",
    "cmap = ListedColormap(sns.color_palette(\"husl\", 256).as_hex())\n",
    "\n",
    "# plot\n",
    "sc = ax.scatter(x, y, z, s=30, c=c, marker='o', cmap=cmap, alpha=1)\n",
    "ax.set_xlabel('L*')\n",
    "ax.set_ylabel('a*')\n",
    "ax.set_zlabel('b*')\n",
    "\n",
    "# legend\n",
    "plt.legend(*sc.legend_elements(), bbox_to_anchor=(1.05, 1), loc=2)\n",
    "plt.show()"
   ]
  },
  {
   "cell_type": "code",
   "execution_count": 15,
   "metadata": {},
   "outputs": [
    {
     "name": "stdout",
     "output_type": "stream",
     "text": [
      "TypeError: missing chip data for language 26\n"
     ]
    }
   ],
   "source": [
    "from communication import MutualInfoCalculator\n",
    "mi = MutualInfoCalculator()\n",
    "p_x = mi.get_px(\"./wcs/term.txt\")"
   ]
  },
  {
   "cell_type": "code",
   "execution_count": 16,
   "metadata": {},
   "outputs": [
    {
     "name": "stdout",
     "output_type": "stream",
     "text": [
      "[1.62450479 1.51571657]\n"
     ]
    }
   ],
   "source": [
    "betas = np.array([2 ** x for x in np.arange(0.7, 0.5, -0.1)])\n",
    "print(betas)\n",
    "focalbeta = 1.0\n",
    "\n",
    "# calculate p_xy from p_x and p_xGy\n",
    "p_xGy = p_xGy / p_xGy.sum(axis=1, keepdims=True)\n",
    "p_xy = p_xGy * p_x[:, np.newaxis]\n",
    "p_xy = p_xy / np.sum(p_xy)"
   ]
  },
  {
   "cell_type": "markdown",
   "metadata": {},
   "source": [
    "### Score all languages"
   ]
  },
  {
   "cell_type": "code",
   "execution_count": null,
   "metadata": {},
   "outputs": [],
   "source": [
    "\n",
    "languages = []\n",
    "rates = []\n",
    "distortions = []\n",
    "# for l in tqdm(df.language.unique()):\n",
    "for l in tqdm(range(1,111)):\n",
    "    q = get_q_for_language(l)\n",
    "    res = score_q_kl(p_xy, q)\n",
    "    rates.append(res.rate)\n",
    "    distortions.append(res.distortion)\n",
    "    languages.append(l)\n",
    "\n",
    "language_scores = pd.DataFrame()\n",
    "language_scores[\"language\"] = languages\n",
    "language_scores[\"rate\"] = rates\n",
    "language_scores[\"distortion\"] = distortions\n",
    "\n",
    "\n",
    "language_scores.to_csv(\"output/language_scores.csv\", index=False)"
   ]
  },
  {
   "cell_type": "code",
   "execution_count": 20,
   "metadata": {},
   "outputs": [
    {
     "data": {
      "image/png": "[encoded data removed]",
      "text/plain": [
       "<Figure size 432x288 with 1 Axes>"
      ]
     },
     "metadata": {},
     "output_type": "display_data"
    }
   ],
   "source": [
    "from noga.figures import mode_map, WCS_CHIPS, cnum2ind\n",
    "\n",
    "q = get_q_for_language(2)\n",
    "mode_map(q)"
   ]
  },
  {
   "cell_type": "code",
   "execution_count": 27,
   "metadata": {},
   "outputs": [
    {
     "data": {
      "image/png": "[encoded data removed]",
      "text/plain": [
       "<Figure size 432x288 with 1 Axes>"
      ]
     },
     "metadata": {},
     "output_type": "display_data"
    }
   ],
   "source": [
    "mode_map(np.roll(q, shift=1, axis=0), chips=np.roll(WCS_CHIPS, shift=1, axis=0))\n",
    "\n",
    "# [cnum2ind(i+1) for i in range(330)]"
   ]
  },
  {
   "cell_type": "markdown",
   "metadata": {},
   "source": [
    "### Get suboptimal languages"
   ]
  },
  {
   "cell_type": "code",
   "execution_count": 22,
   "metadata": {},
   "outputs": [
    {
     "name": "stderr",
     "output_type": "stream",
     "text": [
      "100%|██████████| 4/4 [00:01<00:00,  3.42it/s]\n",
      "100%|██████████| 4/4 [00:01<00:00,  3.55it/s]\n",
      "100%|██████████| 4/4 [00:01<00:00,  3.55it/s]\n",
      "100%|██████████| 4/4 [00:01<00:00,  3.52it/s]\n"
     ]
    }
   ],
   "source": [
    "from tqdm import trange\n",
    "\n",
    "for lid in [2, 32, 35, 108]:\n",
    "    q = get_q_for_language(lid)\n",
    "    res = score_q_kl(p_xy, q)\n",
    "    rates = []\n",
    "    distortions = []\n",
    "    worst_qs = []\n",
    "    for i in trange(1, 5):\n",
    "        q_new = np.roll(q, shift=i, axis=0)\n",
    "        res = score_q_kl(p_xy, q_new)\n",
    "        q_new = mergecols(q_new)\n",
    "        worst_qs.append(q_new)\n",
    "        rates.append(res.rate)\n",
    "        distortions.append(res.distortion)\n",
    "\n",
    "    worst_permutation_idx = np.argmax(np.array(rates)+np.array(distortions))\n",
    "    worst_permutation = worst_qs[worst_permutation_idx]\n",
    "    rate = rates[worst_permutation_idx]\n",
    "    distortion = distortions[worst_permutation_idx]\n",
    "    np.save(f\"output/worst_qs/{lid}_{rate}_{distortion}.npy\", worst_permutation)"
   ]
  },
  {
   "cell_type": "code",
   "execution_count": 26,
   "metadata": {},
   "outputs": [],
   "source": [
    "# import seaborn as sns\n",
    "\n",
    "# fig = plt.gcf()\n",
    "# fig.set_size_inches(7.5, 5.5)\n",
    "# plt.ylabel(\"Distortion\")\n",
    "# plt.xlabel(\"Rate\")\n",
    "# plt.xlim(0,4)\n",
    "# plt.ylim(2,5)\n",
    "# fig.tight_layout()\n",
    "# df = pd.DataFrame({\"index\": index, \"rate\": rates, \"distortion\": distortions})\n",
    "# sns.scatterplot(x=\"rate\", y=\"distortion\", data=df, hue=\"index\")\n",
    "# sns.scatterplot(x=[rates[0]], y=[distortions[0]], color=\"red\")\n",
    "# fp_df = pd.DataFrame(frontier, columns=[\"rate\", \"distortion\"])\n",
    "# sns.lineplot(x=fp_df[\"rate\"], y=fp_df[\"distortion\"])\n",
    "# plt.show()"
   ]
  },
  {
   "cell_type": "markdown",
   "metadata": {},
   "source": [
    "### Find Frontier"
   ]
  },
  {
   "cell_type": "code",
   "execution_count": null,
   "metadata": {},
   "outputs": [],
   "source": [
    "q, beta, ibscores, qresult, qseq, qseqresults, allqs = fit_ib(p_xy, q0, focalbeta, betas, verbose=1)\n",
    "\n",
    "items = [str(x+1) for x in range(n_meanings)]\n",
    "columns = ['M'+str(i) for i in items]\n",
    "\n",
    "# create data frames for plotting and analysis\n",
    "ib_scores_df = pd.DataFrame(np.array(ibscores), columns = ['rate', 'distortion', 'elen'])\n",
    "ib_scores_df['beta'] = betas\n",
    "ib_scores_df['q'] = allqs\n",
    "ib_scores_df['Wn'] = [mergecols(q).shape[1] for q in ib_scores_df['q']]"
   ]
  },
  {
   "cell_type": "code",
   "execution_count": null,
   "metadata": {},
   "outputs": [],
   "source": [
    "# The structural phase transitions along the pareto frontier\n",
    "stochSys = []\n",
    "for i, q in enumerate(zip(qseq, qseqresults)):\n",
    "    for w in mergecols(q[0]).transpose():\n",
    "        stochSys.append([len(qseq)-i, q[1][0], q[1][1]] + list(w))\n",
    "\n",
    "stochSys = pd.DataFrame(data=np.array(stochSys), columns = ['n', 'rate', 'distortion'] + columns)"
   ]
  },
  {
   "cell_type": "code",
   "execution_count": null,
   "metadata": {},
   "outputs": [],
   "source": [
    "stochSys"
   ]
  },
  {
   "cell_type": "code",
   "execution_count": null,
   "metadata": {},
   "outputs": [],
   "source": [
    "stochSys.cumsum()\n",
    "stochSys.plot(x=\"rate\", y='distortion')\n",
    "df = pd.read_csv(\"output/learnability/result.csv\")\n",
    "sns.scatterplot(x=df.rate, y=df.distortion, hue=df[\"number of words\"], s=df[\"number of words\"])"
   ]
  },
  {
   "cell_type": "markdown",
   "metadata": {},
   "source": [
    "### The Pareto Frontier\n",
    "Now let's run the Information Bottleneck Method"
   ]
  },
  {
   "cell_type": "code",
   "execution_count": null,
   "metadata": {},
   "outputs": [],
   "source": [
    "# The structural phase transitions along the pareto frontier\n",
    "stochSys = []\n",
    "for i, q in enumerate(zip(qseq, qseqresults)):\n",
    "    for w in mergecols(q[0]).transpose():\n",
    "        stochSys.append([len(qseq)-i, q[1][0], q[1][1]] + list(w))\n",
    "\n",
    "stochSys = pd.DataFrame(data=np.array(stochSys), columns = ['n', 'rate', 'distortion'] + items)\n"
   ]
  },
  {
   "cell_type": "code",
   "execution_count": null,
   "metadata": {},
   "outputs": [],
   "source": [
    "from scipy.spatial import distance\n",
    "\n",
    "# compute distance from optimal frontier\n",
    "def fd(asys, ibscores):\n",
    "    mind = distance.cdist([[asys['rate'], asys['distortion']]], ibscores[['rate', 'distortion']]).min()\n",
    "    return mind\n",
    "\n",
    "\n",
    "def gNID_d(asys, paretoQs, betas, pX):\n",
    "    mind = np.zeros((len(asys), len(paretoQs)))\n",
    "    for li in range(len(asys)):\n",
    "        for qi, q in enumerate(paretoQs):\n",
    "            mind[li, qi] = gNID(asys.iloc[li]['q'], q, pX)\n",
    "    return np.argmin(mind, axis=1), np.min(mind, axis=1), betas[np.argmin(mind, axis=1)]"
   ]
  },
  {
   "cell_type": "markdown",
   "metadata": {},
   "source": [
    "# Plot"
   ]
  },
  {
   "cell_type": "code",
   "execution_count": null,
   "metadata": {},
   "outputs": [],
   "source": [
    "import pandas as pd\n",
    "lang_df = pd.read_csv(\"wcs/lang.txt\", delimiter=\"\\t\", header=None)\n",
    "languages_dict = {i+1: l for i, l in enumerate(lang_df[1].values)}\n",
    "\n",
    "frontier = np.load(\"comm_frontier_points.npy\")\n",
    "frontier1 = np.load(\"comm_frontier_points3.npy\")\n",
    "frontier2 = np.load(\"comm_frontier_points4.npy\")\n",
    "frontier = np.concatenate([frontier, frontier1, frontier2], axis=0)"
   ]
  },
  {
   "cell_type": "code",
   "execution_count": null,
   "metadata": {},
   "outputs": [],
   "source": [
    "import pandas as pd\n",
    "df = pd.read_csv(\"output/som/result_som.csv\")\n",
    "df.head()"
   ]
  },
  {
   "cell_type": "code",
   "execution_count": null,
   "metadata": {},
   "outputs": [],
   "source": [
    "import pandas as pd\n",
    "# df = pd.read_csv(\"output/learnability/result.csv\")\n",
    "# arr = np.load(\"comm_frontier_points.npy\")\n",
    "sns.set_context(\"paper\")\n",
    "fig = plt.gcf()\n",
    "sns.lineplot(x=frontier[:,0], y=frontier[:,1])\n",
    "# sns.scatterplot(data=df, x=\"rate\", y=\"distortion\")\n",
    "\n",
    "languages = [\"Agarabi\", \"Culina\", \"Dyimini\", \"Yucuna\"]\n",
    "palette_colors = sns.color_palette('tab10')\n",
    "palette_dict = {l: color for l, color in zip(languages, palette_colors)}\n",
    "\n",
    "sns.scatterplot(data=language_scores, x=\"rate\", y=\"distortion\", color=\"gray\", s=50)#, hue=\"Language\")\n",
    "sns.scatterplot(data=language_scores[language_scores.Language.isin(languages)],\n",
    "                x=\"rate\", y=\"distortion\", hue=\"Language\", s=75, palette=palette_dict, \n",
    "                hue_order=languages)\n",
    "# plt.xlim(0,4)\n",
    "plt.title(\"Color Efficiency of Languages\")\n",
    "fig.set_size_inches(7.5, 5.5)\n",
    "plt.ylabel(\"Distortion\")\n",
    "plt.xlabel(\"Rate\")\n",
    "# fig.set_size_inches(18.5, 10.5)\n",
    "fig.tight_layout()\n",
    "fig.savefig('color_efficiency.png', dpi=300)\n",
    "plt.show()"
   ]
  },
  {
   "cell_type": "code",
   "execution_count": null,
   "metadata": {},
   "outputs": [],
   "source": [
    "language_scores[\"Language\"] = language_scores.language.map(languages_dict)"
   ]
  },
  {
   "cell_type": "code",
   "execution_count": null,
   "metadata": {},
   "outputs": [],
   "source": [
    "from tqdm import tqdm\n",
    "sample_sizes = list(pd.read_csv(\"output/som/result_som.csv\").sort_values(\"sample_size\").sample_size.unique())\n",
    "\n",
    "# for LANGUAGE in [1,  31,  34, 107]:\n",
    "for l_id, LANGUAGE in enumerate([2, 32, 35, 108]):\n",
    "    fig = plt.gcf()\n",
    "    fig.set_size_inches(7.5, 5.5)\n",
    "    plt.ylabel(\"Distortion\")\n",
    "    plt.xlabel(\"Rate\")\n",
    "    plt.xlim(0,4)\n",
    "    plt.ylim(2,5)\n",
    "    fig.tight_layout()\n",
    "\n",
    "    df = pd.read_csv(\"output/som/result_som.csv\")\n",
    "    df[\"Language\"]=df.language_id.map(languages_dict)\n",
    "    df = df[df.language_id == LANGUAGE]\n",
    "    l = df.Language.values[0]\n",
    "    df = df.groupby(\"sample_size\")[[\"distortion\", \"rate\"]].agg(\n",
    "        distortion_mean=pd.NamedAgg(column=\"distortion\", aggfunc=\"mean\"),\n",
    "        distortion_std=pd.NamedAgg(column=\"distortion\", aggfunc=\"std\"),\n",
    "        rate_mean=pd.NamedAgg(column=\"rate\", aggfunc=\"mean\"),\n",
    "        rate_std=pd.NamedAgg(column=\"rate\", aggfunc=\"std\")).reset_index()\n",
    "    \n",
    "    coords_mean = df.sort_values(\"sample_size\")[[\"rate_mean\", \"distortion_mean\"]].values\n",
    "    coords_std = df.sort_values(\"sample_size\")[[\"rate_std\", \"distortion_std\"]].values\n",
    "    \n",
    "    language_scores[\"Language\"] = language_scores.language.map(languages_dict)\n",
    "\n",
    "    sns.scatterplot(data=language_scores[language_scores.language ==  [2, 32, 35, 108][l_id]], \n",
    "                x=\"rate\", \n",
    "                y=\"distortion\",\n",
    "                hue=\"Language\",\n",
    "                # style=\"Language\",\n",
    "                palette=palette_dict,\n",
    "                s=100)\n",
    "    fp_df = pd.DataFrame(frontier, columns=[\"rate\", \"distortion\"])\n",
    "    sns.lineplot(x=fp_df[\"rate\"], y=fp_df[\"distortion\"])\n",
    "    for i, sample_size in tqdm(enumerate(sample_sizes)):        \n",
    "        if i < coords_mean.shape[0]-1:\n",
    "            plt.errorbar(coords_mean[i,0], coords_mean[i,1], \n",
    "                         yerr=coords_std[i,0], xerr=coords_std[i,1], \n",
    "                         fmt='none',\n",
    "                         ecolor=\"gray\", elinewidth=0.1)\n",
    "            plt.quiver(*coords_mean[:-1].T[:,i], *np.diff(coords_mean, axis=0).T[:,i], \n",
    "                       angles='xy', \n",
    "                       scale_units='xy', \n",
    "                       scale=0.9, \n",
    "                       color=palette_dict[l])\n",
    "            plt.title(f\"Sample Size: {sample_size}\")\n",
    "            fig.savefig(f'animation/{LANGUAGE}/{sample_size}.png', dpi=300)\n",
    "\n",
    "    plt.savefig(f'{LANGUAGE}_fontier.png', dpi=300)\n",
    "    plt.show()"
   ]
  },
  {
   "cell_type": "code",
   "execution_count": null,
   "metadata": {},
   "outputs": [],
   "source": [
    "import glob\n",
    "from PIL import Image\n",
    "\n",
    "for l in [1,  31,  34, 107]:\n",
    "    fp_in = f\"animation/{l}/*.png\"\n",
    "    fp_out = f\"{l}.gif\"\n",
    "    # https://pillow.readthedocs.io/en/stable/handbook/image-file-formats.html#gif\n",
    "    images = sorted(glob.glob(fp_in), key=lambda x: int(x.split(\"/\")[-1].split(\".\")[0]))\n",
    "    imgs = (Image.open(f) for f in images)\n",
    "    img = next(imgs)  # extract first image from iterator\n",
    "    img.save(fp=fp_out, format='GIF', append_images=imgs,\n",
    "             save_all=True, duration=200, loop=0)"
   ]
  },
  {
   "cell_type": "code",
   "execution_count": null,
   "metadata": {},
   "outputs": [],
   "source": [
    "# df = df.groupby(\"sample_size\")[[\"distortion\", \"rate\"]].mean().reset_index()\n",
    "df = pd.read_csv(\"output/som/result_som.csv\")\n",
    "df[\"Language\"]=df.language_id.map(languages_dict)\n",
    "df = df[df.language_id == LANGUAGE]\n",
    "l = df.Language.values[0]\n",
    "# df.groupby(\"sample_size\").distortion.mean()\n",
    "# )\n",
    "    \n",
    "df.groupby(\"sample_size\")[[\"distortion\", \"rate\"]].agg(\n",
    "    distortion_mean=pd.NamedAgg(column=\"distortion\", aggfunc=\"mean\"),\n",
    "    distortion_std=pd.NamedAgg(column=\"distortion\", aggfunc=\"std\"),\n",
    "    rate_mean=pd.NamedAgg(column=\"rate\", aggfunc=\"mean\"),\n",
    "    rate_std=pd.NamedAgg(column=\"rate\", aggfunc=\"std\")).reset_index()"
   ]
  },
  {
   "cell_type": "code",
   "execution_count": null,
   "metadata": {},
   "outputs": [],
   "source": [
    "df1 = df[df.language_id.isin([1])].groupby(\"sample_size\").mean().reset_index()\n",
    "sns.scatterplot(data=df1, \n",
    "                x=\"rate\", y=\"distortion\")\n",
    "\n",
    "df1"
   ]
  },
  {
   "cell_type": "code",
   "execution_count": null,
   "metadata": {},
   "outputs": [],
   "source": [
    "# np.diff(arr[1:], axis=0)\n",
    "coords = df.sort_values(\"sample_size\")[[\"rate\", \"distortion\"]].values"
   ]
  },
  {
   "cell_type": "markdown",
   "metadata": {},
   "source": [
    "#### Calculate distance"
   ]
  },
  {
   "cell_type": "code",
   "execution_count": null,
   "metadata": {},
   "outputs": [],
   "source": [
    "p1 = np.array([2.31669787e-03, 4.74230046e+00])\n",
    "p2 =  np.array([1.99793648, 2.83398736])\n",
    "# df = pd.read_csv(\"output/learnability/result.csv\")\n",
    "df = pd.read_csv(\"output/som/result_som.csv\")\n",
    "df[\"distance\"] = np.cross(p2-p1,df[[\"rate\", \"distortion\"]].values-p1)/np.linalg.norm(p2-p1)\n",
    "df[\"Language\"]=df.language_id.map(languages_dict)"
   ]
  },
  {
   "cell_type": "code",
   "execution_count": null,
   "metadata": {},
   "outputs": [],
   "source": [
    "fig = plt.gcf()\n",
    "sns.set_context(\"paper\")\n",
    "sns.scatterplot(data=df[(df.sample_size < 2000)], x=\"sample_size\", y=\"distance\", color=\"gray\")\n",
    "sns.scatterplot(data=df[(df.sample_size < 2000)&(df.Language.isin(languages))], x=\"sample_size\", \n",
    "                y=\"distance\", hue=\"Language\",  palette=palette_dict, s=50, hue_order=languages)\n",
    "\n",
    "plt.title(\"Language Distance to Frontier (SOM)\")\n",
    "\n",
    "fig.set_size_inches(7.5, 4.5)\n",
    "plt.xlabel(\"Sample Size\")\n",
    "plt.ylabel(\"Distance to Frontier\")\n",
    "fig.tight_layout()\n",
    "fig.savefig('dist_frontier_som.png', dpi=300)\n",
    "plt.show()\n"
   ]
  },
  {
   "cell_type": "code",
   "execution_count": null,
   "metadata": {},
   "outputs": [],
   "source": [
    "df[(df.language_id == 1)&(df.sample_size < 2000)]"
   ]
  },
  {
   "cell_type": "code",
   "execution_count": null,
   "metadata": {},
   "outputs": [],
   "source": [
    "df = pd.read_csv(\"output/learnability/result.csv\")"
   ]
  },
  {
   "cell_type": "code",
   "execution_count": null,
   "metadata": {},
   "outputs": [],
   "source": [
    "a = frontier[np.abs(frontier[:,0] - (np.ones(frontier.shape[0])*2.5)).argmin()]"
   ]
  },
  {
   "cell_type": "code",
   "execution_count": null,
   "metadata": {},
   "outputs": [],
   "source": []
  }
 ],
 "metadata": {
  "interpreter": {
   "hash": "dbda1052f39ca0b0a0cd74911b0c91c0e224307f85d570c8823d0661ac0877c0"
  },
  "kernelspec": {
   "display_name": "Python 3 (ipykernel)",
   "language": "python",
   "name": "python3"
  },
  "language_info": {
   "codemirror_mode": {
    "name": "ipython",
    "version": 3
   },
   "file_extension": ".py",
   "mimetype": "text/x-python",
   "name": "python",
   "nbconvert_exporter": "python",
   "pygments_lexer": "ipython3",
   "version": "3.8.12"
  }
 },
 "nbformat": 4,
 "nbformat_minor": 4
}
