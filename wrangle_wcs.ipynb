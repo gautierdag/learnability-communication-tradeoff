{
 "cells": [
  {
   "cell_type": "markdown",
   "metadata": {},
   "source": [
    "# Measuring Communication Efficiency and Learnability of Colors using an Information Bottleneck Framework"
   ]
  },
  {
   "cell_type": "code",
   "execution_count": 1,
   "metadata": {},
   "outputs": [],
   "source": [
    "import pandas as pd\n",
    "import numpy as np\n",
    "from ibhelpers import *"
   ]
  },
  {
   "cell_type": "code",
   "execution_count": 2,
   "metadata": {},
   "outputs": [],
   "source": [
    "# load the data from the World Color Survey\n",
    "df = pd.read_csv(\"wcs/term.txt\", delimiter=\"\\t\", header=None)\n",
    "df.columns = [\"language\", \"speaker\", \"chip\", \"word\"]"
   ]
  },
  {
   "cell_type": "markdown",
   "metadata": {},
   "source": [
    "## Calculate prior probabilities\n",
    "\n",
    "For each language, $l$, we can use a frequentist approach (counts) to calculate the observed quantities of $p(w|c,l)$ and $p(c|w,l)$"
   ]
  },
  {
   "cell_type": "code",
   "execution_count": 3,
   "metadata": {},
   "outputs": [
    {
     "data": {
      "text/plain": [
       "language  chip  word\n",
       "1         1     F       0.08\n",
       "                G       0.52\n",
       "                LB      0.36\n",
       "                LF      0.04\n",
       "          2     F       0.60\n",
       "dtype: float64"
      ]
     },
     "execution_count": 3,
     "metadata": {},
     "output_type": "execute_result"
    }
   ],
   "source": [
    "per_chip_count_df = df.groupby([\"language\", \"chip\", \"word\"]).speaker.agg(individual_count_per_word_per_chip=\"count\")\n",
    "total_word_count_df = df.groupby([\"language\", \"chip\"]).word.agg(total_words_per_chip=\"count\")\n",
    "\n",
    "# frequentist probability of a word given chip and language\n",
    "p_word_chip_language = per_chip_count_df[\"individual_count_per_word_per_chip\"] / total_word_count_df[\"total_words_per_chip\"]\n",
    "p_word_chip_language.head(5)"
   ]
  },
  {
   "cell_type": "code",
   "execution_count": 4,
   "metadata": {},
   "outputs": [
    {
     "data": {
      "text/plain": [
       "language  word  chip\n",
       "1         F     1       0.001366\n",
       "                2       0.010246\n",
       "                4       0.001366\n",
       "                5       0.011612\n",
       "                6       0.003415\n",
       "dtype: float64"
      ]
     },
     "execution_count": 4,
     "metadata": {},
     "output_type": "execute_result"
    }
   ],
   "source": [
    "per_word_count_df = df.groupby([\"language\", \"word\", \"chip\"]).speaker.agg(individual_count_per_chip_per_word=\"count\")\n",
    "total_chip_count_df = df.groupby([\"language\", \"word\"]).chip.agg(total_chips_per_word=\"count\")\n",
    "\n",
    "# frequentist probability of a chip given word and language\n",
    "p_chip_word_language = per_word_count_df[\"individual_count_per_chip_per_word\"] / total_chip_count_df[\"total_chips_per_word\"]\n",
    "p_chip_word_language.head(5)"
   ]
  },
  {
   "cell_type": "markdown",
   "metadata": {},
   "source": [
    "## Information Bottleneck\n",
    "\n",
    "Code taken from Frank (osfstorage)"
   ]
  },
  {
   "cell_type": "markdown",
   "metadata": {},
   "source": [
    "### Initialise components for optimising IB objective\n",
    "\n",
    "We need to initialise a joint prior distribution of words and meanings, i.e. `p_wm`, and a corresponding variational joint distribution, i.e. `q0` (q_wm_0)."
   ]
  },
  {
   "cell_type": "code",
   "execution_count": 5,
   "metadata": {},
   "outputs": [],
   "source": [
    "# number of possible meanings\n",
    "n_meanings = 330 #@TODO: change this with the correct number from WCS\n",
    "n_words = n_meanings\n",
    "# to avoid underflow problem\n",
    "eps = 0.0001\n",
    "\n",
    "q0 = (1 - eps) * np.eye(n_meanings) + eps * np.ones((n_meanings, n_meanings))\n",
    "\n",
    "# p_x = np.array([0.645, 0.161, 0.072, 0.040, 0.026, 0.018, 0.013, 0.010, 0.008, 0.006]) #p(m)\\n\n",
    "# to find p(m) - find the most common word for each chip and assign chip to that word\\n\n",
    "\n",
    "language = 1\n",
    "\n",
    "#Find the most common word for each chip and assign chip to that word\\n\n",
    "p_word_chip_language[1].groupby(level=0).idxmax()\n",
    "\n",
    "# convert words to indices\n",
    "words = p_chip_word_language[1].reset_index().word.unique()\n",
    "word_to_index =  {word: i for word, i in zip(words, range(len(words))) }\n",
    "index_to_word =  {i: word for word, i in zip(words, range(len(words))) }\n",
    "\n",
    "# assigne a word to each chip\n",
    "chip_to_word = np.zeros(n_meanings)\n",
    "for chip_num, word in p_word_chip_language[1].groupby(level=0).idxmax().values:\n",
    "    chip_to_word[chip_num-1] = word_to_index[word]\n",
    "\n",
    "# Find the frequency of that color in data, then split it equally across all the chips assigned to it\\n\n",
    "word_frequencies = p_chip_word_language[1].reset_index().word.apply(lambda x: word_to_index[x]).value_counts()\n",
    "\n",
    "p_x = np.zeros(n_meanings)\n",
    "for i in range(n_meanings):\n",
    "    p_x[i] = 1 / word_frequencies[chip_to_word[i]]"
   ]
  },
  {
   "cell_type": "markdown",
   "metadata": {},
   "source": [
    "Calculate p_xGy using a PDF over chips in lab space"
   ]
  },
  {
   "cell_type": "code",
   "execution_count": 6,
   "metadata": {},
   "outputs": [
    {
     "data": {
      "text/plain": [
       "array([0.00920128, 0.00278018, 0.00278018, 0.00278018, 0.00278018,\n",
       "       0.00278018, 0.00414316, 0.00278018, 0.00278018, 0.00278565,\n",
       "       0.00278018, 0.00278018, 0.00278018, 0.00278018, 0.00278018,\n",
       "       0.00278023, 0.00414316, 0.00280355, 0.00414316, 0.00278018,\n",
       "       0.00414316, 0.00377403, 0.00278018, 0.00278026, 0.00278018,\n",
       "       0.00278034, 0.00278018, 0.00414316, 0.00278018, 0.00278018,\n",
       "       0.00278018, 0.00414316, 0.00278018, 0.00386399, 0.00278018,\n",
       "       0.00278018, 0.00605985, 0.00278018, 0.00278018, 0.00414316,\n",
       "       0.00278018, 0.0041559 , 0.0027802 , 0.00278018, 0.00414316,\n",
       "       0.00278023, 0.00278018, 0.00414316, 0.00278018, 0.00278018,\n",
       "       0.00278018, 0.00278018, 0.00278018, 0.00278018, 0.00414316,\n",
       "       0.00278018, 0.00278018, 0.0027805 , 0.00278018, 0.00278018,\n",
       "       0.00278018, 0.00414316, 0.00278018, 0.0031551 , 0.00278018,\n",
       "       0.00278018, 0.00278018, 0.00414316, 0.00278019, 0.00278018,\n",
       "       0.00278018, 0.00278018, 0.00278018, 0.00278018, 0.00278018,\n",
       "       0.00278018, 0.00278018, 0.00278018, 0.00278022, 0.00397387,\n",
       "       0.00414316, 0.00278018, 0.00278047, 0.00278018, 0.00278018,\n",
       "       0.00278018, 0.00414109, 0.00278018, 0.00278022, 0.00278018,\n",
       "       0.00278018, 0.00278018, 0.00278018, 0.00278018, 0.00278018,\n",
       "       0.00368846, 0.00390259, 0.00278018, 0.00278018, 0.00278018,\n",
       "       0.00278018, 0.00278018, 0.00404611, 0.00278018, 0.00278018,\n",
       "       0.00278018, 0.00278018, 0.00278018, 0.00278018, 0.00278018,\n",
       "       0.00278018, 0.00278018, 0.00278025, 0.00278018, 0.00278018,\n",
       "       0.00278018, 0.00278018, 0.00278018, 0.00414316, 0.00278018,\n",
       "       0.00414316, 0.00278018, 0.00278018, 0.00278018, 0.00414316,\n",
       "       0.00278018, 0.00278018, 0.00278018, 0.00278018, 0.00296143,\n",
       "       0.00278018, 0.00278018, 0.00278018, 0.00278018, 0.00278018,\n",
       "       0.00414316, 0.00278018, 0.00278018, 0.00278018, 0.00278438,\n",
       "       0.00278023, 0.00278018, 0.00278018, 0.00278018, 0.00278018,\n",
       "       0.00287616, 0.00414316, 0.00278018, 0.00278018, 0.00278018,\n",
       "       0.00278018, 0.00278018, 0.00460495, 0.00278023, 0.00278018,\n",
       "       0.00278018, 0.00278018, 0.00278038, 0.00278018, 0.00278018,\n",
       "       0.00278018, 0.00278018, 0.00278018, 0.00344862, 0.00278018,\n",
       "       0.0027802 , 0.00278018, 0.00278018, 0.00278018, 0.00278018,\n",
       "       0.00278018, 0.00279146, 0.00414316, 0.00278018, 0.00278018,\n",
       "       0.00414316, 0.00278018, 0.00278086, 0.00278018, 0.00414316,\n",
       "       0.00414316, 0.00278018, 0.00278018, 0.00278018, 0.00278018,\n",
       "       0.00278018, 0.00278018, 0.00278018, 0.00393214, 0.00278018,\n",
       "       0.00278018, 0.00278018, 0.00278018, 0.00278018, 0.00278018,\n",
       "       0.00278018, 0.00414316, 0.0032092 , 0.00278018, 0.00278018,\n",
       "       0.00278018, 0.00278018, 0.00278018, 0.00278018, 0.00340787,\n",
       "       0.00278018, 0.00278018, 0.00278018, 0.00278018, 0.00278018,\n",
       "       0.00414316, 0.00278018, 0.00278018, 0.00278018, 0.00278018,\n",
       "       0.00278018, 0.00278018, 0.00414316, 0.00278018, 0.00414184,\n",
       "       0.00278018, 0.00278018, 0.00278018, 0.00278018, 0.00297624,\n",
       "       0.00278018, 0.0036798 , 0.00377403, 0.00278018, 0.00278018,\n",
       "       0.00278018, 0.00278028, 0.00414316, 0.00278018, 0.00278018,\n",
       "       0.00414316, 0.00278018, 0.00278018, 0.00278018, 0.00278018,\n",
       "       0.00278018, 0.00278022, 0.00278018, 0.00300857, 0.00278018,\n",
       "       0.00414316, 0.0028899 , 0.00278018, 0.00278018, 0.00278018,\n",
       "       0.00278018, 0.00278018, 0.00278018, 0.00278018, 0.00278018,\n",
       "       0.00414316, 0.00278018, 0.00278018, 0.00278018, 0.00278018,\n",
       "       0.00414316, 0.00278018, 0.00414323, 0.00286006, 0.00278018,\n",
       "       0.00278018, 0.00278018, 0.00278018, 0.00278018, 0.00414316,\n",
       "       0.00278018, 0.00350718, 0.00414316, 0.00278023, 0.00414827,\n",
       "       0.00278018, 0.00278018, 0.00278018, 0.00278018, 0.00278018,\n",
       "       0.00278018, 0.00414316, 0.00278018, 0.00278018, 0.00278018,\n",
       "       0.00278018, 0.00278018, 0.00278018, 0.00278018, 0.00278018,\n",
       "       0.00278018, 0.00278018, 0.00278018, 0.00412927, 0.00278018,\n",
       "       0.00278269, 0.00278018, 0.00278018, 0.00278018, 0.00278023,\n",
       "       0.00278018, 0.00278018, 0.0027803 , 0.00278018, 0.00278018,\n",
       "       0.00278018, 0.00278018, 0.00414316, 0.00337603, 0.00414316,\n",
       "       0.00278018, 0.00278022, 0.0028101 , 0.00278018, 0.00278018,\n",
       "       0.00278018, 0.00278018, 0.00278018, 0.00278018, 0.00278018,\n",
       "       0.00278018, 0.00390259, 0.00278018, 0.00278018, 0.00278018,\n",
       "       0.00278018, 0.00278317, 0.00278018, 0.00278018, 0.00278018])"
      ]
     },
     "execution_count": 6,
     "metadata": {},
     "output_type": "execute_result"
    }
   ],
   "source": [
    "from scipy.stats import norm\n",
    "from scipy.special import softmax\n",
    "\n",
    "p_xGy = np.zeros((n_meanings, n_meanings))\n",
    "\n",
    "chip2lab = pd.read_csv(\"wcs/cnum-vhcm-lab-new.txt\", sep=\"\\t\", header=0, index_col=\"#cnum\")\n",
    "chip2lab = chip2lab.sort_values(by=\"#cnum\")[[\"L*\", \"a*\", \"b*\"]].copy().reset_index()\n",
    "\n",
    "labspace = chip2lab[[\"L*\", \"a*\", \"b*\"]].values\n",
    "\n",
    "eps = 1e-15\n",
    "for i in range(n_meanings):\n",
    "    # note the sum the pdf over the lab space dimension to go back into chip/meaning space \n",
    "    # (not sure if that's correct)\n",
    "    p_xGy[i] = softmax((norm.pdf(labspace, labspace[i], 1) + eps).sum(axis=1))\n",
    "\n",
    "p_xGy[0]\n"
   ]
  },
  {
   "cell_type": "code",
   "execution_count": 7,
   "metadata": {},
   "outputs": [],
   "source": [
    "q0 = q0 / q0.sum(axis=1, keepdims=True) # q0 initial encoder - can set it to identity\n",
    "# betas = np.array([1. ** x for x in np.arange(10, 0, -1)])\n",
    "focalbeta = 1.0\n",
    "\n",
    "# calculate p_xy from p_x and p_xGy\n",
    "p_mGs = p_xGy / np.sum(p_xGy, axis=0)\n",
    "p_xGy = p_xGy / p_xGy.sum(axis=1, keepdims=True)\n",
    "p_xy = p_xGy * p_x[:, np.newaxis]\n",
    "p_xy = p_xy / np.sum(p_xy)"
   ]
  },
  {
   "cell_type": "code",
   "execution_count": 8,
   "metadata": {},
   "outputs": [
    {
     "data": {
      "text/plain": [
       "array([1.1 , 1.09, 1.08, 1.07, 1.06, 1.05, 1.04, 1.03, 1.02, 1.01, 1.  ,\n",
       "       0.99, 0.98, 0.97, 0.96, 0.95, 0.94, 0.93, 0.92, 0.91, 0.9 ])"
      ]
     },
     "execution_count": 8,
     "metadata": {},
     "output_type": "execute_result"
    }
   ],
   "source": [
    "betas = np.arange(1.1, 0.9, -0.01)\n",
    "betas"
   ]
  },
  {
   "cell_type": "code",
   "execution_count": 9,
   "metadata": {},
   "outputs": [
    {
     "name": "stdout",
     "output_type": "stream",
     "text": [
      "1.1:1\n",
      "1.09:1\n",
      "1.08:1\n",
      "1.07:1\n",
      "1.06:1\n",
      "1.05:1\n",
      "1.04:1\n",
      "1.03:1\n",
      "1.02:1\n",
      "1.01:1\n",
      "1.0:1\n",
      "0.99:1\n",
      "0.98:1\n",
      "0.97:1\n",
      "0.96:1\n",
      "0.95:1\n",
      "0.94:1\n",
      "0.9299999999999999:1\n",
      "0.9199999999999999:1\n",
      "0.9099999999999999:1\n",
      "0.8999999999999999:1\n"
     ]
    }
   ],
   "source": [
    "q, beta, ibscores, qresult, qseq, qseqresults, allqs = fit_ib(p_xy, q0, focalbeta, betas, verbose=1)\n",
    "\n",
    "items = [str(x+1) for x in range(n_meanings)]\n",
    "columns = ['M'+str(i) for i in items]\n",
    "\n",
    "# create data frames for plotting and analysis\n",
    "ib_scores_df = pd.DataFrame(np.array(ibscores), columns = ['rate', 'distortion', 'elen'])\n",
    "ib_scores_df['beta'] = betas\n",
    "ib_scores_df['q'] = allqs\n",
    "ib_scores_df['Wn'] = [mergecols(q).shape[1] for q in ib_scores_df['q']]"
   ]
  },
  {
   "cell_type": "code",
   "execution_count": 10,
   "metadata": {},
   "outputs": [],
   "source": [
    "# The structural phase transitions along the pareto frontier\n",
    "stochSys = []\n",
    "for i, q in enumerate(zip(qseq, qseqresults)):\n",
    "    for w in mergecols(q[0]).transpose():\n",
    "        stochSys.append([len(qseq)-i, q[1][0], q[1][1]] + list(w))\n",
    "\n",
    "stochSys = pd.DataFrame(data=np.array(stochSys), columns = ['n', 'rate', 'distortion'] + columns)"
   ]
  },
  {
   "cell_type": "code",
   "execution_count": 11,
   "metadata": {},
   "outputs": [
    {
     "data": {
      "text/html": [
       "<div>\n",
       "<style scoped>\n",
       "    .dataframe tbody tr th:only-of-type {\n",
       "        vertical-align: middle;\n",
       "    }\n",
       "\n",
       "    .dataframe tbody tr th {\n",
       "        vertical-align: top;\n",
       "    }\n",
       "\n",
       "    .dataframe thead th {\n",
       "        text-align: right;\n",
       "    }\n",
       "</style>\n",
       "<table border=\"1\" class=\"dataframe\">\n",
       "  <thead>\n",
       "    <tr style=\"text-align: right;\">\n",
       "      <th></th>\n",
       "      <th>n</th>\n",
       "      <th>rate</th>\n",
       "      <th>distortion</th>\n",
       "      <th>M1</th>\n",
       "      <th>M2</th>\n",
       "      <th>M3</th>\n",
       "      <th>M4</th>\n",
       "      <th>M5</th>\n",
       "      <th>M6</th>\n",
       "      <th>M7</th>\n",
       "      <th>...</th>\n",
       "      <th>M321</th>\n",
       "      <th>M322</th>\n",
       "      <th>M323</th>\n",
       "      <th>M324</th>\n",
       "      <th>M325</th>\n",
       "      <th>M326</th>\n",
       "      <th>M327</th>\n",
       "      <th>M328</th>\n",
       "      <th>M329</th>\n",
       "      <th>M330</th>\n",
       "    </tr>\n",
       "  </thead>\n",
       "  <tbody>\n",
       "    <tr>\n",
       "      <th>0</th>\n",
       "      <td>1.0</td>\n",
       "      <td>2.402207e-09</td>\n",
       "      <td>0.027163</td>\n",
       "      <td>0.00303</td>\n",
       "      <td>0.00303</td>\n",
       "      <td>0.00303</td>\n",
       "      <td>0.00303</td>\n",
       "      <td>0.00303</td>\n",
       "      <td>0.00303</td>\n",
       "      <td>0.00303</td>\n",
       "      <td>...</td>\n",
       "      <td>0.00303</td>\n",
       "      <td>0.00303</td>\n",
       "      <td>0.00303</td>\n",
       "      <td>0.00303</td>\n",
       "      <td>0.00303</td>\n",
       "      <td>0.00303</td>\n",
       "      <td>0.00303</td>\n",
       "      <td>0.00303</td>\n",
       "      <td>0.00303</td>\n",
       "      <td>0.00303</td>\n",
       "    </tr>\n",
       "  </tbody>\n",
       "</table>\n",
       "<p>1 rows × 333 columns</p>\n",
       "</div>"
      ],
      "text/plain": [
       "     n          rate  distortion       M1       M2       M3       M4       M5  \\\n",
       "0  1.0  2.402207e-09    0.027163  0.00303  0.00303  0.00303  0.00303  0.00303   \n",
       "\n",
       "        M6       M7  ...     M321     M322     M323     M324     M325  \\\n",
       "0  0.00303  0.00303  ...  0.00303  0.00303  0.00303  0.00303  0.00303   \n",
       "\n",
       "      M326     M327     M328     M329     M330  \n",
       "0  0.00303  0.00303  0.00303  0.00303  0.00303  \n",
       "\n",
       "[1 rows x 333 columns]"
      ]
     },
     "execution_count": 11,
     "metadata": {},
     "output_type": "execute_result"
    }
   ],
   "source": [
    "stochSys"
   ]
  },
  {
   "cell_type": "code",
   "execution_count": 12,
   "metadata": {},
   "outputs": [
    {
     "data": {
      "text/plain": [
       "<AxesSubplot:xlabel='rate'>"
      ]
     },
     "execution_count": 12,
     "metadata": {},
     "output_type": "execute_result"
    },
    {
     "data": {
      "image/png": "[encoded data removed]",
      "text/plain": [
       "<Figure size 432x288 with 1 Axes>"
      ]
     },
     "metadata": {
      "needs_background": "light"
     },
     "output_type": "display_data"
    }
   ],
   "source": [
    "stochSys.cumsum()\n",
    "stochSys.plot(x=\"rate\", y='distortion')"
   ]
  },
  {
   "cell_type": "markdown",
   "metadata": {},
   "source": [
    "### The Pareto Frontier\n",
    "Now let's run the Information Bottleneck Method"
   ]
  },
  {
   "cell_type": "code",
   "execution_count": 13,
   "metadata": {},
   "outputs": [],
   "source": [
    "\n",
    "\n",
    "# The structural phase transitions along the pareto frontier\n",
    "stochSys = []\n",
    "for i, q in enumerate(zip(qseq, qseqresults)):\n",
    "    for w in mergecols(q[0]).transpose():\n",
    "        stochSys.append([len(qseq)-i, q[1][0], q[1][1]] + list(w))\n",
    "\n",
    "stochSys = pd.DataFrame(data=np.array(stochSys), columns = ['n', 'rate', 'distortion'] + items)\n"
   ]
  },
  {
   "cell_type": "code",
   "execution_count": 14,
   "metadata": {},
   "outputs": [],
   "source": [
    "from scipy.spatial import distance\n",
    "\n",
    "# compute distance from optimal frontier\n",
    "def fd(asys, ibscores):\n",
    "    mind = distance.cdist([[asys['rate'], asys['distortion']]], ibscores[['rate', 'distortion']]).min()\n",
    "    return mind\n",
    "\n",
    "\n",
    "def gNID_d(asys, paretoQs, betas, pX):\n",
    "    mind = np.zeros((len(asys), len(paretoQs)))\n",
    "    for li in range(len(asys)):\n",
    "        for qi, q in enumerate(paretoQs):\n",
    "            mind[li, qi] = gNID(asys.iloc[li]['q'], q, pX)\n",
    "    return np.argmin(mind, axis=1), np.min(mind, axis=1), betas[np.argmin(mind, axis=1)]\n",
    "\n"
   ]
  },
  {
   "cell_type": "code",
   "execution_count": null,
   "metadata": {},
   "outputs": [],
   "source": []
  }
 ],
 "metadata": {
  "interpreter": {
   "hash": "dbda1052f39ca0b0a0cd74911b0c91c0e224307f85d570c8823d0661ac0877c0"
  },
  "kernelspec": {
   "display_name": "Python 3.8.12 64-bit ('lc': conda)",
   "name": "python3"
  },
  "language_info": {
   "codemirror_mode": {
    "name": "ipython",
    "version": 3
   },
   "file_extension": ".py",
   "mimetype": "text/x-python",
   "name": "python",
   "nbconvert_exporter": "python",
   "pygments_lexer": "ipython3",
   "version": "3.8.12"
  },
  "orig_nbformat": 4
 },
 "nbformat": 4,
 "nbformat_minor": 2
}
