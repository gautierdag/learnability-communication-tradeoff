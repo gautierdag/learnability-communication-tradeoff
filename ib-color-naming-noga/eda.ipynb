{
 "cells": [
  {
   "cell_type": "code",
   "execution_count": 3,
   "id": "f156615b-d50c-434d-b58f-18cb25a6d313",
   "metadata": {},
   "outputs": [
    {
     "name": "stderr",
     "output_type": "stream",
     "text": [
      "2021-10-17 12:00:54,964 [INFO] [ib_naming_model - load_model] loading model from file: ./models/IB_color_naming_model/model.pkl\n"
     ]
    }
   ],
   "source": [
    "import ib_naming_model\n",
    "import numpy as np\n",
    "from tools import *\n",
    "\n",
    "model = ib_naming_model.load_model()"
   ]
  },
  {
   "cell_type": "code",
   "execution_count": 16,
   "metadata": {},
   "outputs": [],
   "source": [
    "import pandas as pd\n",
    "\n",
    "__CHIPS = pd.read_csv(\"./data/cnum-vhcm-lab-new.txt\", delimiter=\"\\t\").sort_values(by=\"#cnum\")\n",
    "WCS_CNUMS = pd.read_csv(\"./data/chip.txt\", delimiter=\"\\t\", header=None).values\n",
    "WCS_CHIPS = __CHIPS[[\"L*\", \"a*\", \"b*\"]].values"
   ]
  },
  {
   "cell_type": "code",
   "execution_count": 18,
   "metadata": {},
   "outputs": [
    {
     "data": {
      "text/plain": [
       "(330, 3)"
      ]
     },
     "execution_count": 18,
     "metadata": {},
     "output_type": "execute_result"
    }
   ],
   "source": [
    "WCS_CHIPS.shape"
   ]
  },
  {
   "cell_type": "code",
   "execution_count": 43,
   "metadata": {},
   "outputs": [
    {
     "name": "stdout",
     "output_type": "stream",
     "text": [
      "(0.22251429039020842, 0.9476107808452052, 1.0076345431789737)\n"
     ]
    }
   ],
   "source": [
    "pW_M_fake = np.random.rand(330, 10)\n",
    "pW_M_fake /= pW_M_fake.sum(axis=1)[:, None]\n",
    "print(model.fit(pW_M_fake)[:-1])"
   ]
  },
  {
   "cell_type": "code",
   "execution_count": 60,
   "metadata": {},
   "outputs": [
    {
     "name": "stdout",
     "output_type": "stream",
     "text": [
      "4.084800772882539 3.660347836329043\n"
     ]
    },
    {
     "data": {
      "image/png": "[encoded data removed]",
      "text/plain": [
       "<Figure size 460.8x180 with 1 Axes>"
      ]
     },
     "metadata": {},
     "output_type": "display_data"
    }
   ],
   "source": [
    "import matplotlib.pyplot as plt\n",
    "\n",
    "indx = 1000\n",
    "qW_M = model.qW_M[indx]\n",
    "plt.figure(figsize=(6.4, 2.5))\n",
    "model.mode_map(qW_M)\n",
    "plt.title(\"Optimal IB system for $\\\\beta = %.3f$\" % model.betas[indx])\n",
    "plt.tight_layout()\n",
    "print(model.complexity(qW_M), model.accuracy(qW_M))\n"
   ]
  },
  {
   "cell_type": "code",
   "execution_count": 68,
   "metadata": {},
   "outputs": [],
   "source": [
    "# model[0]"
   ]
  },
  {
   "cell_type": "code",
   "execution_count": 66,
   "metadata": {},
   "outputs": [
    {
     "data": {
      "text/plain": [
       "(0.0, 4.471200132814856)"
      ]
     },
     "execution_count": 66,
     "metadata": {},
     "output_type": "execute_result"
    },
    {
     "data": {
      "image/png": "[encoded data removed]",
      "text/plain": [
       "<Figure size 432x288 with 1 Axes>"
      ]
     },
     "metadata": {
      "needs_background": "light"
     },
     "output_type": "display_data"
    }
   ],
   "source": [
    "complexity, accuracy = model.IB_curve\n",
    "plt.figure()\n",
    "plt.plot(complexity, accuracy)\n",
    "plt.xlabel(\"complexity, $I(M;W)$\")\n",
    "plt.ylabel(\"accuracy, $I(W;U)$\")\n",
    "plt.xlim([0, H(model.pM)])\n",
    "plt.ylim([0, model.I_MU + 0.1])"
   ]
  },
  {
   "cell_type": "code",
   "execution_count": null,
   "metadata": {},
   "outputs": [],
   "source": []
  }
 ],
 "metadata": {
  "interpreter": {
   "hash": "dbda1052f39ca0b0a0cd74911b0c91c0e224307f85d570c8823d0661ac0877c0"
  },
  "kernelspec": {
   "display_name": "Python 3.8.12 64-bit ('lc': conda)",
   "name": "python3"
  },
  "language_info": {
   "codemirror_mode": {
    "name": "ipython",
    "version": 3
   },
   "file_extension": ".py",
   "mimetype": "text/x-python",
   "name": "python",
   "nbconvert_exporter": "python",
   "pygments_lexer": "ipython3",
   "version": "3.8.12"
  }
 },
 "nbformat": 4,
 "nbformat_minor": 5
}
