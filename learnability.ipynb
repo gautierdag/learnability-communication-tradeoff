{
 "cells": [
  {
   "cell_type": "code",
   "execution_count": 67,
   "id": "ab7b9789",
   "metadata": {},
   "outputs": [],
   "source": [
    "import pandas as pd\n",
    "from sklearn.mixture import BayesianGaussianMixture, GaussianMixture\n",
    "import numpy as np\n",
    "\n",
    "color_data_integer = pd.read_csv(\"wcs/term.txt\", sep=\"\\t\", names=[\"language\", \"speaker\", \"chip\", \"word\"])\n"
   ]
  },
  {
   "cell_type": "code",
   "execution_count": 68,
   "id": "36b72f86",
   "metadata": {},
   "outputs": [],
   "source": [
    "chip2lab = pd.read_csv(\"wcs/cnum-vhcm-lab-new.txt\", sep=\"\\t\", header=0, index_col=\"#cnum\")\n",
    "chip2lab = chip2lab.sort_values(by=\"#cnum\")[[\"L*\", \"a*\", \"b*\"]]\n",
    "color_data_integer = color_data_integer.merge(chip2lab, left_on=\"chip\", right_on=\"#cnum\", how=\"left\")"
   ]
  },
  {
   "cell_type": "code",
   "execution_count": 69,
   "id": "8a1bd11a",
   "metadata": {},
   "outputs": [],
   "source": [
    "from scipy.stats import expon\n",
    "def prior_H(hypotheses):\n",
    "    return [expon.pdf(h.n_components, 0.001) for h in hypotheses]\n",
    "\n",
    "def prior_C(chips):\n",
    "    \"\"\"returns the prior probability of c for each c in chips\"\"\"\n",
    "    return np.full((len(chips),), 1/330)"
   ]
  },
  {
   "cell_type": "code",
   "execution_count": 70,
   "id": "1bd6b3c5",
   "metadata": {},
   "outputs": [
    {
     "name": "stderr",
     "output_type": "stream",
     "text": [
      "100%|█████████████████████████████████████████████████████████████████████████████████████████████████████████████████████████████████████████████████████████████████████| 110/110 [11:17<00:00,  6.16s/it]\n"
     ]
    },
    {
     "data": {
      "image/png": "[encoded data removed]",
      "text/plain": [
       "<Figure size 432x288 with 1 Axes>"
      ]
     },
     "metadata": {
      "needs_background": "light"
     },
     "output_type": "display_data"
    }
   ],
   "source": [
    "import matplotlib.pyplot as plt\n",
    "from tqdm import tqdm\n",
    "inf_loss = []\n",
    "complexity = []\n",
    "for language, elicitations in tqdm(color_data_integer.groupby('language')):\n",
    "    np.seterr(divide='ignore')\n",
    "    #elicitations[\"Term\"], _ = pd.factorize(elicitations[\"Term\"])\n",
    "    \n",
    "    # features are L*a*b* and one-hot color term for each chip elicitation\n",
    "    data =  pd.concat([\n",
    "                elicitations[[\"L*\", \"a*\", \"b*\"]], \n",
    "                pd.get_dummies(elicitations.word)\n",
    "    ], axis=1).to_numpy()\n",
    "    \n",
    "    # fit GMM -- should eventually fit several of these\n",
    "    hypothesis = GaussianMixture(n_components=max(pd.factorize(elicitations.word)[0]), random_state=42).fit(data)\n",
    "    \n",
    "    H = [hypothesis]\n",
    "    \n",
    "    ### COMPUTE INFORMATION LOSS (log likelihood) ###\n",
    "    inf_loss.append(hypothesis.score(data)/data.shape[0])\n",
    "    \n",
    "    ### COMPUTE COMPLEXITY (mutual information) ###\n",
    "    # p(c|h) for all h in H\n",
    "    pcH = np.array([h.predict_proba(data[:330]).sum(axis=1) for h in H])\n",
    "    \n",
    "    lratio = np.log(\n",
    "        pcH / prior_C(pd.factorize(elicitations.word)[0][:330]) # prior probability over 330 chips is uniform.\n",
    "    ) \n",
    "    lratio[lratio == -np.inf] = 0\n",
    "    pH = prior_H(H)\n",
    "\n",
    "    # I(H;C) -- mutual information between the hypothesis and the WCS data\n",
    "    MI_HC = -pcH * pH * lratio \n",
    "    MI_HC = MI_HC.sum(axis=0) # sum over hypotheses\n",
    "\n",
    "    MI_HC = sum(MI_HC) # sum over chips\n",
    "    \n",
    "    complexity.append(MI_HC)\n",
    "    \n",
    "plt.plot([-x for x in inf_loss], complexity, '.')\n",
    "plt.show()\n",
    "\n",
    "\n"
   ]
  },
  {
   "cell_type": "code",
   "execution_count": 53,
   "id": "001d711c",
   "metadata": {},
   "outputs": [
    {
     "data": {
      "image/png": "[encoded data removed]",
      "text/plain": [
       "<Figure size 432x288 with 1 Axes>"
      ]
     },
     "metadata": {
      "needs_background": "light"
     },
     "output_type": "display_data"
    }
   ],
   "source": [
    "plt.plot(complexity, inf_loss, '.')\n",
    "#plt.xlim([0, 0.003])\n",
    "plt.show()\n"
   ]
  },
  {
   "cell_type": "markdown",
   "id": "a0530b20",
   "metadata": {},
   "source": [
    "1. P(H)?\n",
    "2. P(C)?\n",
    "3. Inputs to GMM -- 1 hot\n",
    "\n",
    "simulate actual kid learning\n",
    "use schedule m\n",
    "p(C) = capacity achieving prior noga (need to optimize) -- blahut arimoto\n",
    "calculate likelihood over all the color chips and average, multiply by N to get number of data points\n",
    "that is beta for tradeoff\n",
    "\n",
    "p(H) dirichlet process prior -- favor as few lumps (gaussians) as possible\n",
    "penalize the gaussian prior on how close the means and std dev\n",
    "8 terms in english, 8 gaussians, reward gaussians that are basically the same thing\n",
    "reward gaussian with similar means\n",
    "reward wider std deviation\n",
    "\n",
    "\n",
    "ideally variational/dirichlet\n",
    "\n",
    "generate hypotheses with a schedule, each hypotheses get n data points on the schedule\n",
    "oversample lower end\n",
    "\n",
    "information loss not on training data but on WCS data (uniform)\n",
    "\n",
    "multiply the plot (information loss) by N the number of data points for the hypothesis (dont)\n",
    "\n",
    "or just plot at N=1 :D\n"
   ]
  }
 ],
 "metadata": {
  "kernelspec": {
   "display_name": "Python 3 (ipykernel)",
   "language": "python",
   "name": "python3"
  },
  "language_info": {
   "codemirror_mode": {
    "name": "ipython",
    "version": 3
   },
   "file_extension": ".py",
   "mimetype": "text/x-python",
   "name": "python",
   "nbconvert_exporter": "python",
   "pygments_lexer": "ipython3",
   "version": "3.9.5"
  }
 },
 "nbformat": 4,
 "nbformat_minor": 5
}
